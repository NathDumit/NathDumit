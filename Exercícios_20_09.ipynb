{
  "cells": [
    {
      "cell_type": "markdown",
      "metadata": {
        "id": "view-in-github",
        "colab_type": "text"
      },
      "source": [
        "<a href=\"https://colab.research.google.com/github/NathDumit/NathDumit/blob/main/Exerc%C3%ADcios_20_09.ipynb\" target=\"_parent\"><img src=\"https://colab.research.google.com/assets/colab-badge.svg\" alt=\"Open In Colab\"/></a>"
      ]
    },
    {
      "cell_type": "markdown",
      "metadata": {
        "id": "ib1nc7Bu8OV2"
      },
      "source": [
        "1) Faça um programa que peça a idade do usuário e imprima se ele é maior ou menor de 18 anos."
      ]
    },
    {
      "cell_type": "code",
      "execution_count": null,
      "metadata": {
        "colab": {
          "base_uri": "https://localhost:8080/"
        },
        "id": "SZ4GAhOM668v",
        "outputId": "2d6900ef-d334-41b9-d095-e55d93489915"
      },
      "outputs": [
        {
          "name": "stdout",
          "output_type": "stream",
          "text": [
            "Digite sua idade: 31\n",
            "Você é maior de 18 anos.\n"
          ]
        }
      ],
      "source": [
        "idade = int(input(\"Digite sua idade: \"))\n",
        "\n",
        "if idade >= 18:\n",
        "    print(\"Você é maior de 18 anos.\")\n",
        "else:\n",
        "    print(\"Você é menor de 18 anos.\")\n"
      ]
    },
    {
      "cell_type": "markdown",
      "metadata": {
        "id": "J5SDnD4A8KZv"
      },
      "source": [
        "2) Faça um programa que peça um número e mostre se ele é positivo ou negativo. Alternativa: acrescentar nulo"
      ]
    },
    {
      "cell_type": "code",
      "execution_count": null,
      "metadata": {
        "colab": {
          "base_uri": "https://localhost:8080/"
        },
        "id": "-P4tIWrT7ak_",
        "outputId": "f15ccce2-a03b-44e2-d3d5-abbdeadc79da"
      },
      "outputs": [
        {
          "name": "stdout",
          "output_type": "stream",
          "text": [
            "Digite um número: 2\n",
            "O número é positivo.\n"
          ]
        }
      ],
      "source": [
        "numero = int(input(\"Digite um número: \"))\n",
        "\n",
        "if numero > 0:\n",
        "    print(\"O número é positivo.\")\n",
        "elif numero < 0:\n",
        "    print(\"O número é negativo.\")\n",
        "else:\n",
        "    print(\"O número é nulo.\")\n"
      ]
    },
    {
      "cell_type": "markdown",
      "metadata": {
        "id": "gVDJfvox74he"
      },
      "source": [
        "3) Faça um programa que peça dois números e mostre o maior deles."
      ]
    },
    {
      "cell_type": "code",
      "execution_count": null,
      "metadata": {
        "colab": {
          "base_uri": "https://localhost:8080/"
        },
        "id": "SXDPeups78hG",
        "outputId": "2f174888-4af1-4c78-ab37-1d671420acd0"
      },
      "outputs": [
        {
          "name": "stdout",
          "output_type": "stream",
          "text": [
            "Digite o primeiro número: 5\n",
            "Digite o segundo número: 8\n",
            "O maior número é: 8\n"
          ]
        }
      ],
      "source": [
        "numero1 = int(input(\"Digite o primeiro número: \"))\n",
        "numero2 = int(input(\"Digite o segundo número: \"))\n",
        "\n",
        "if numero1 > numero2:\n",
        "    print(f\"O maior número é: {numero1}\")\n",
        "elif numero2 > numero1:\n",
        "    print(f\"O maior número é: {numero2}\")\n",
        "else:\n",
        "    print(\"Os dois números são iguais.\")\n"
      ]
    },
    {
      "cell_type": "markdown",
      "metadata": {
        "id": "GvSMr3Iu8GZl"
      },
      "source": [
        "4) Faça um programa que leia a validade das informações:\n",
        "\n",
        "a. Idade: entre 0 e 150;\n",
        "\n",
        "b. Salário: maior que 0;\n",
        "\n",
        "c. Sexo: M, F ou Outro;\n",
        "\n",
        "O programa deve imprimir uma mensagem de erro para cada informação inválida.\n"
      ]
    },
    {
      "cell_type": "code",
      "execution_count": null,
      "metadata": {
        "colab": {
          "base_uri": "https://localhost:8080/"
        },
        "id": "r8oj30yl8WZY",
        "outputId": "2d0c4692-cd14-4f05-f7e2-8287d812a622"
      },
      "outputs": [
        {
          "name": "stdout",
          "output_type": "stream",
          "text": [
            "Digite sua idade: 31\n",
            "Digite seu salário: 1320\n",
            "Digite seu sexo (M, F ou Outro): Outro\n"
          ]
        }
      ],
      "source": [
        "idade = int(input(\"Digite sua idade: \"))\n",
        "if idade < 0 or idade > 150:\n",
        "    print(\"Erro: Idade inválida. Deve estar entre 0 e 150.\")\n",
        "\n",
        "salario = int(input(\"Digite seu salário: \"))\n",
        "if salario <= 0:\n",
        "    print(\"Erro: Salário inválido. Deve ser maior que 0.\")\n",
        "\n",
        "sexo = input(\"Digite seu sexo (M, F ou Outro): \").upper()\n",
        "if sexo not in ['M', 'F', 'OUTRO']:\n",
        "    print(\"Erro: Sexo inválido. Deve ser M, F ou Outro.\")\n"
      ]
    },
    {
      "cell_type": "markdown",
      "metadata": {
        "id": "yHVG2Dmb9PNv"
      },
      "source": [
        "5) Escreva um programa que peça a nota de 3 provas de um aluno e verifique se ele passou ou não de ano.\n",
        "Obs.: O aluno irá passar de ano se sua média for maior que 6."
      ]
    },
    {
      "cell_type": "code",
      "execution_count": null,
      "metadata": {
        "colab": {
          "base_uri": "https://localhost:8080/"
        },
        "id": "pt-LNg9Z9XQN",
        "outputId": "ae07e672-1515-472b-eeb8-06c191f4fdfd"
      },
      "outputs": [
        {
          "name": "stdout",
          "output_type": "stream",
          "text": [
            "Digite a nota da primeira prova: 8\n",
            "Digite a nota da segunda prova: 5\n",
            "Digite a nota da terceira prova: 7\n",
            "O aluno passou de ano!\n"
          ]
        }
      ],
      "source": [
        "nota1 = int(input(\"Digite a nota da primeira prova: \"))\n",
        "nota2 = int(input(\"Digite a nota da segunda prova: \"))\n",
        "nota3 = int(input(\"Digite a nota da terceira prova: \"))\n",
        "\n",
        "media = (nota1 + nota2 + nota3) / 3\n",
        "\n",
        "if media > 6:\n",
        "    print(\"O aluno passou de ano!\")\n",
        "else:\n",
        "    print(\"O aluno não passou de ano.\")\n"
      ]
    },
    {
      "cell_type": "markdown",
      "metadata": {
        "id": "McHZRwrc9wng"
      },
      "source": [
        "6) Faça um programa que mostre uma questão de múltipla escolha com 5 opções (letras a, b, c, d, e). Sabendo a resposta certa, o programa deve receber a opção do usuário e informar a letra que o usuário marcou e se a resposta está certa ou errada."
      ]
    },
    {
      "cell_type": "code",
      "execution_count": null,
      "metadata": {
        "colab": {
          "base_uri": "https://localhost:8080/"
        },
        "id": "grNJEUP592Xf",
        "outputId": "baf8623a-ee65-452a-d6ba-ae363ea6c994"
      },
      "outputs": [
        {
          "name": "stdout",
          "output_type": "stream",
          "text": [
            "Qual é o maior planeta do sistema solar?\n",
            "a) Vênus\n",
            "b) Terra\n",
            "c) Marte\n",
            "d) Júpiter\n",
            "e) Saturno\n",
            "Marque a letra correspondente à sua resposta: d\n",
            "Você marcou a letra d. Resposta correta!\n"
          ]
        }
      ],
      "source": [
        "print(\"Qual é o maior planeta do sistema solar?\")\n",
        "print(\"a) Vênus\")\n",
        "print(\"b) Terra\")\n",
        "print(\"c) Marte\")\n",
        "print(\"d) Júpiter\")\n",
        "print(\"e) Saturno\")\n",
        "\n",
        "resposta_correta = \"d\"\n",
        "\n",
        "escolha_usuario = input(\"Marque a letra correspondente à sua resposta: \")\n",
        "\n",
        "if escolha_usuario == resposta_correta:\n",
        "    print(f\"Você marcou a letra {escolha_usuario}. Resposta correta!\")\n",
        "else:\n",
        "    print(f\"Você marcou a letra {escolha_usuario}. Resposta errada. A resposta correta é {resposta_correta}.\")\n"
      ]
    },
    {
      "cell_type": "markdown",
      "metadata": {
        "id": "fnA29v86-Ukm"
      },
      "source": [
        "7) Vamos fazer um programa para verificar quem é o assassino de um crime. Para descobrir o assassino, a polícia faz um pequeno questionário com 5 perguntas onde a resposta só pode ser sim ou não:\n",
        "\n",
        "a. Mora perto da vítima?\n",
        "\n",
        "b. Já trabalhou com a vítima?\n",
        "\n",
        "c. Telefonou para a vítima?\n",
        "\n",
        "d. Esteve no local do crime?\n",
        "\n",
        "e. Devia para a vítima?\n",
        "\n",
        "Cada resposta sim dá um ponto para o suspeito. A polícia considera que os suspeitos com 5 pontos são os assassinos, com 4 a 3 pontos são cúmplices e 2 pontos são apenas suspeitos, necessitando outras investigações. Valores iguais ou abaixo de 1 são liberados."
      ]
    },
    {
      "cell_type": "code",
      "execution_count": null,
      "metadata": {
        "colab": {
          "base_uri": "https://localhost:8080/"
        },
        "id": "3_t86HLn-bIX",
        "outputId": "1f8f550e-80bd-4b68-e511-743a24700627"
      },
      "outputs": [
        {
          "metadata": {
            "tags": null
          },
          "name": "stdout",
          "output_type": "stream",
          "text": [
            "Responda as seguintes perguntas com 'sim' ou 'nao':\n"
          ]
        }
      ],
      "source": [
        "print(\"Responda as seguintes perguntas com 'sim' ou 'nao':\")\n",
        "\n",
        "perguntas = [\n",
        "    \"Mora perto da vítima?\",\n",
        "    \"Já trabalhou com a vítima?\",\n",
        "    \"Telefonou para a vítima?\",\n",
        "    \"Esteve no local do crime?\",\n",
        "    \"Devia para a vítima?\"\n",
        "]\n",
        "\n",
        "pontos = 0\n",
        "\n",
        "for pergunta in perguntas:\n",
        "    resposta = input(pergunta + \" \")\n",
        "    if resposta.lower() == \"sim\":\n",
        "        pontos += 1\n",
        "\n",
        "if pontos == 5:\n",
        "    status = \"assassino\"\n",
        "elif 3 <= pontos <= 4:\n",
        "    status = \"cúmplice\"\n",
        "elif pontos == 2:\n",
        "    status = \"suspeito\"\n",
        "else:\n",
        "    status = \"liberado\"\n",
        "\n",
        "print(f\"Com base nas respostas, você é considerado: {status}.\")\n"
      ]
    },
    {
      "cell_type": "markdown",
      "metadata": {
        "id": "RbIUBxuc-8Lm"
      },
      "source": [
        "8) Um produto vai sofrer aumento de acordo com a Tabela 1 abaixo. Faça um programa que peça para o usuário digitar o valor do produto de acordo\n",
        "com o preço antigo e escreva uma das mensagens da Tabela 2, de acordo com o preço reajustado:\n",
        "\n",
        "Tabela 1\n",
        "\n",
        "| Preço Antigo         | % de aumento |\n",
        "|----------------------|--------------|\n",
        "| Até 50 reais         | 5%           |\n",
        "| Entre 50 e 100 reais | 10%          |\n",
        "| De 100 a 150 reais   | 13%          |\n",
        "| Acima de 150 reais   | 15%          |\n",
        "\n",
        "Tabela 2\n",
        "\n",
        "| Preço Novo            | Mensagem   |\n",
        "|-----------------------|------------|\n",
        "| Até 80 reais          | Barato     |\n",
        "| Entre 80 e 115 reais  | Razoável   |\n",
        "| Entre 115 e 150 reais | Normal     |\n",
        "| Entre 150 e 170 reais | Caro       |\n",
        "| Acima de 170 reais    | Muito Caro |"
      ]
    },
    {
      "cell_type": "code",
      "execution_count": null,
      "metadata": {
        "colab": {
          "base_uri": "https://localhost:8080/"
        },
        "id": "uiGhDxUM_OBG",
        "outputId": "3e09f281-7a5c-4cc7-d2b9-d00eaf7efa91"
      },
      "outputs": [
        {
          "output_type": "stream",
          "name": "stdout",
          "text": [
            "Digite o valor do produto (preço antigo): 182\n",
            "O preço reajustado é: R$209\n",
            "Mensagem: Muito Caro\n"
          ]
        }
      ],
      "source": [
        "preco_antigo = int(input(\"Digite o valor do produto (preço antigo): \"))\n",
        "\n",
        "if preco_antigo <= 50:\n",
        "    aumento = 5\n",
        "elif preco_antigo <= 100:\n",
        "    aumento = 10\n",
        "elif preco_antigo <= 150:\n",
        "    aumento = 13\n",
        "else:\n",
        "    aumento = 15\n",
        "\n",
        "preco_novo = preco_antigo + (preco_antigo * aumento // 100)\n",
        "\n",
        "if preco_novo <= 80:\n",
        "    mensagem = \"Barato\"\n",
        "elif preco_novo <= 115:\n",
        "    mensagem = \"Razoável\"\n",
        "elif preco_novo <= 150:\n",
        "    mensagem = \"Normal\"\n",
        "elif preco_novo <= 170:\n",
        "    mensagem = \"Caro\"\n",
        "else:\n",
        "    mensagem = \"Muito Caro\"\n",
        "\n",
        "print(f\"O preço reajustado é: R${preco_novo}\")\n",
        "print(f\"Mensagem: {mensagem}\")\n"
      ]
    }
  ],
  "metadata": {
    "colab": {
      "provenance": [],
      "authorship_tag": "ABX9TyM6c4ptxSsi4wQE7PV7gB2u",
      "include_colab_link": true
    },
    "kernelspec": {
      "display_name": "Python 3",
      "name": "python3"
    },
    "language_info": {
      "name": "python"
    }
  },
  "nbformat": 4,
  "nbformat_minor": 0
}