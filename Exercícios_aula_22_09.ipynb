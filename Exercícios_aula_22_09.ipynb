{
  "nbformat": 4,
  "nbformat_minor": 0,
  "metadata": {
    "colab": {
      "provenance": [],
      "authorship_tag": "ABX9TyPx8jaswJUwjLwO1ncWk4rB",
      "include_colab_link": true
    },
    "kernelspec": {
      "name": "python3",
      "display_name": "Python 3"
    },
    "language_info": {
      "name": "python"
    }
  },
  "cells": [
    {
      "cell_type": "markdown",
      "metadata": {
        "id": "view-in-github",
        "colab_type": "text"
      },
      "source": [
        "<a href=\"https://colab.research.google.com/github/NathDumit/PyAtividades/blob/main/Exerc%C3%ADcios_aula_22_09.ipynb\" target=\"_parent\"><img src=\"https://colab.research.google.com/assets/colab-badge.svg\" alt=\"Open In Colab\"/></a>"
      ]
    },
    {
      "cell_type": "markdown",
      "source": [
        "**1) Escreva um programa que solicite um número inteiro e imprima na tela todos os números de 1 até o número digitado, separado por espaços.**\n",
        "\n",
        "*Exemplo*\n",
        "\n",
        "número digitado: 5\n",
        "\n",
        "resultado esperado: 1 2 3 4 5"
      ],
      "metadata": {
        "id": "hjC7Cv0IWSjw"
      }
    },
    {
      "cell_type": "code",
      "execution_count": 4,
      "metadata": {
        "colab": {
          "base_uri": "https://localhost:8080/"
        },
        "id": "IximoHegWPiV",
        "outputId": "02884bf9-52f6-4f93-f11c-ca4701d4d5cb"
      },
      "outputs": [
        {
          "output_type": "stream",
          "name": "stdout",
          "text": [
            "Digite um número inteiro: 8\n",
            "1 2 3 4 5 6 7 8 "
          ]
        }
      ],
      "source": [
        "numero = int(input(\"Digite um número inteiro: \"))\n",
        "contador = 1\n",
        "\n",
        "while contador <= numero:\n",
        "    print(contador, end=\" \")\n",
        "    contador += 1\n"
      ]
    },
    {
      "cell_type": "markdown",
      "source": [
        "**2) Faça um programa que mostre o fatorial de um número digitado.**\n",
        "\n",
        "*Exemplo*\n",
        "\n",
        "número digitado: 5\n",
        "\n",
        "resultado esperado: 120"
      ],
      "metadata": {
        "id": "6kEU4eGXWt_Y"
      }
    },
    {
      "cell_type": "code",
      "source": [
        "numero = int(input(\"Digite um número: \"))\n",
        "resultado = 1\n",
        "contador = 1\n",
        "\n",
        "while contador <= numero:\n",
        "    resultado *= contador\n",
        "    contador += 1\n",
        "\n",
        "print(resultado)"
      ],
      "metadata": {
        "colab": {
          "base_uri": "https://localhost:8080/"
        },
        "id": "-Goqu9YpWxnf",
        "outputId": "54e395b9-003b-4bb8-e224-56eac1559a5f"
      },
      "execution_count": 15,
      "outputs": [
        {
          "output_type": "stream",
          "name": "stdout",
          "text": [
            "Digite um número: 0\n",
            "1\n"
          ]
        }
      ]
    },
    {
      "cell_type": "markdown",
      "source": [
        "**3) Faça um programa que imprima a tabuada do 9 na tela (entre 1 e 10). Insira a conta, por exemplo, 9 * 1 = 9, sendo cada um dos valores em uma linha diferente.**"
      ],
      "metadata": {
        "id": "ykLzN_XeXwFP"
      }
    },
    {
      "cell_type": "code",
      "source": [
        "contador = 1\n",
        "\n",
        "while contador <= 10:\n",
        "    print(f\"9 * {contador} = {9 * contador}\")\n",
        "    contador += 1\n"
      ],
      "metadata": {
        "colab": {
          "base_uri": "https://localhost:8080/"
        },
        "id": "yCovgiYjYBwn",
        "outputId": "2b3b8728-a643-4a2a-e316-97953d148916"
      },
      "execution_count": 5,
      "outputs": [
        {
          "output_type": "stream",
          "name": "stdout",
          "text": [
            "9 * 1 = 9\n",
            "9 * 2 = 18\n",
            "9 * 3 = 27\n",
            "9 * 4 = 36\n",
            "9 * 5 = 45\n",
            "9 * 6 = 54\n",
            "9 * 7 = 63\n",
            "9 * 8 = 72\n",
            "9 * 9 = 81\n",
            "9 * 10 = 90\n"
          ]
        }
      ]
    },
    {
      "cell_type": "markdown",
      "source": [
        "**4) Faça um programa em que o usuário digite números quaisquer e encerrará no momento em que o valor 0 seja digitado. Ao final diga qual foi o maior número digitado.**"
      ],
      "metadata": {
        "id": "fDD0PxB-YSTW"
      }
    },
    {
      "cell_type": "code",
      "source": [
        "maior_numero = float('-inf')\n",
        "\n",
        "print(\"Digite números para encontrar o maior. Digite 0 para encerrar.\")\n",
        "\n",
        "while True:\n",
        "    numero = int(input(\"Digite um número: \"))\n",
        "\n",
        "    if numero == 0:\n",
        "        break\n",
        "\n",
        "    if numero > maior_numero:\n",
        "        maior_numero = numero\n",
        "\n",
        "if maior_numero == float('-inf'):\n",
        "    print(\"Nenhum número foi digitado.\")\n",
        "else:\n",
        "    print(f\"O maior número digitado foi: {maior_numero}\")\n"
      ],
      "metadata": {
        "colab": {
          "base_uri": "https://localhost:8080/"
        },
        "id": "53z75d-GYdm4",
        "outputId": "530de833-1ef3-4628-845f-5d99a7a33fcc"
      },
      "execution_count": 6,
      "outputs": [
        {
          "output_type": "stream",
          "name": "stdout",
          "text": [
            "Digite números para encontrar o maior. Digite 0 para encerrar.\n",
            "Digite um número: 89\n",
            "Digite um número: 54\n",
            "Digite um número: 0\n",
            "O maior número digitado foi: 89\n"
          ]
        }
      ]
    },
    {
      "cell_type": "markdown",
      "source": [
        "**5) Faça um script que peça para o usuário digitar a idade, o salário e o sexo de uma pessoa até que as entradas digitadas sejam válidas.**\n",
        "\n",
        "a. Idade: entre 0 e 150\n",
        "\n",
        "b. Salário: maior que 0\n",
        "\n",
        "c. Gênero: M, F ou Outro\n",
        "\n",
        "Por último imprima os dados recebidos do usuário."
      ],
      "metadata": {
        "id": "QMkPCzQfYn8v"
      }
    },
    {
      "cell_type": "code",
      "source": [
        "while True:\n",
        "    idade = int(input(\"Digite a idade (entre 0 e 150): \"))\n",
        "    if 0 <= idade <= 150:\n",
        "        break\n",
        "    print(\"Idade inválida. Tente novamente.\")\n",
        "\n",
        "while True:\n",
        "    salario = float(input(\"Digite o salário (maior que 0): \"))\n",
        "    if salario > 0:\n",
        "        break\n",
        "    print(\"Salário inválido. Tente novamente.\")\n",
        "\n",
        "while True:\n",
        "    genero = input(\"Digite o gênero (M, F ou Outro): \").upper()\n",
        "    if genero in ['M', 'F', 'OUTRO']:\n",
        "        break\n",
        "    print(\"Gênero inválido. Tente novamente.\")\n",
        "\n",
        "print(\"\\nDados recebidos:\")\n",
        "print(f\"Idade: {idade}\")\n",
        "print(f\"Salário: {salario}\")\n",
        "print(f\"Gênero: {genero}\")\n"
      ],
      "metadata": {
        "colab": {
          "base_uri": "https://localhost:8080/"
        },
        "id": "uAuTVTTRY0Yn",
        "outputId": "3a481b05-aee8-4be1-b3a4-6be82ea4a5c0"
      },
      "execution_count": 10,
      "outputs": [
        {
          "output_type": "stream",
          "name": "stdout",
          "text": [
            "Digite a idade (entre 0 e 150): 56\n",
            "Digite o salário (maior que 0): 1320\n",
            "Digite o gênero (M, F ou Outro): Outro\n",
            "\n",
            "Dados recebidos:\n",
            "Idade: 56\n",
            "Salário: 1320.0\n",
            "Gênero: OUTRO\n"
          ]
        }
      ]
    },
    {
      "cell_type": "markdown",
      "source": [
        "**6) Faça uma calculadora. O usuário deve inserir qual a operação matemática ele deseja realizar e logo em seguida os dois números. O programa deve finalizar apenas quando o usuário digitar a opção \"sair\" no momento de escolha da operação matemática.**"
      ],
      "metadata": {
        "id": "LrQ7RIw1Zwvg"
      }
    },
    {
      "cell_type": "code",
      "source": [
        "while True:\n",
        "    operacao = input(\"Digite a operação matemática (+, -, *, /) ou 'sair' para finalizar: \")\n",
        "\n",
        "    if operacao == \"sair\":\n",
        "        break\n",
        "\n",
        "    if operacao in ['+', '-', '*', '/']:\n",
        "        num1 = float(input(\"Digite o primeiro número: \"))\n",
        "        num2 = float(input(\"Digite o segundo número: \"))\n",
        "\n",
        "        if operacao == '+':\n",
        "            resultado = num1 + num2\n",
        "        elif operacao == '-':\n",
        "            resultado = num1 - num2\n",
        "        elif operacao == '*':\n",
        "            resultado = num1 * num2\n",
        "        elif operacao == '/':\n",
        "            if num2 == 0:\n",
        "                print(\"Erro: Divisão por zero!\")\n",
        "                continue\n",
        "            resultado = num1 / num2\n",
        "\n",
        "        print(f\"Resultado: {resultado}\")\n",
        "    else:\n",
        "        print(\"Operação inválida. Tente novamente.\")\n",
        "\n",
        "print(\"Calculadora encerrada.\")\n"
      ],
      "metadata": {
        "colab": {
          "base_uri": "https://localhost:8080/"
        },
        "id": "vTlzU_QoZ60e",
        "outputId": "eb59b8af-2dbf-4d34-c24b-b154bfe73168"
      },
      "execution_count": 11,
      "outputs": [
        {
          "output_type": "stream",
          "name": "stdout",
          "text": [
            "Digite a operação matemática (+, -, *, /) ou 'sair' para finalizar: /\n",
            "Digite o primeiro número: 89\n",
            "Digite o segundo número: 5\n",
            "Resultado: 17.8\n",
            "Digite a operação matemática (+, -, *, /) ou 'sair' para finalizar: sair\n",
            "Calculadora encerrada.\n"
          ]
        }
      ]
    },
    {
      "cell_type": "markdown",
      "source": [
        "**7) Efetue a soma dos números pares de 1 a 100 em python, usando loop while**"
      ],
      "metadata": {
        "id": "K2LppeiRZg6g"
      }
    },
    {
      "cell_type": "code",
      "source": [
        "contador = 1\n",
        "soma = 0\n",
        "\n",
        "while contador <= 100:\n",
        "    if contador % 2 == 0:\n",
        "        soma += contador\n",
        "    contador += 1\n",
        "\n",
        "print(soma)\n"
      ],
      "metadata": {
        "colab": {
          "base_uri": "https://localhost:8080/"
        },
        "id": "68_YnAz0ZG-g",
        "outputId": "a04e1b7a-0720-4089-aa71-2889d0711234"
      },
      "execution_count": 8,
      "outputs": [
        {
          "output_type": "stream",
          "name": "stdout",
          "text": [
            "2550\n"
          ]
        }
      ]
    },
    {
      "cell_type": "markdown",
      "source": [
        "**8) Crie um programa em python que receba palavras e agregue elas em um texto até que seja escrita a palavra PARE, usando loop while**"
      ],
      "metadata": {
        "id": "1LqTSN9_foN9"
      }
    },
    {
      "cell_type": "code",
      "source": [
        "texto = \"\"\n",
        "\n",
        "while True:\n",
        "    palavra = input()\n",
        "    if palavra == \"PARE\":\n",
        "        break\n",
        "    texto += palavra + \" \"\n",
        "\n",
        "print(texto)\n",
        "\n"
      ],
      "metadata": {
        "colab": {
          "base_uri": "https://localhost:8080/"
        },
        "id": "GIAvH2DEftlN",
        "outputId": "a79289fb-ec75-43a8-f28b-d74a4d2a8fce"
      },
      "execution_count": 14,
      "outputs": [
        {
          "output_type": "stream",
          "name": "stdout",
          "text": [
            "dança \n",
            "gatinho\n",
            "cavalo\n",
            "PARE\n",
            "dança  gatinho cavalo \n"
          ]
        }
      ]
    }
  ]
}