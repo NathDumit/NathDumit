{
  "nbformat": 4,
  "nbformat_minor": 0,
  "metadata": {
    "colab": {
      "provenance": [],
      "authorship_tag": "ABX9TyNP3Q7LsNVz6z9dKm/aNhfn",
      "include_colab_link": true
    },
    "kernelspec": {
      "name": "python3",
      "display_name": "Python 3"
    },
    "language_info": {
      "name": "python"
    }
  },
  "cells": [
    {
      "cell_type": "markdown",
      "metadata": {
        "id": "view-in-github",
        "colab_type": "text"
      },
      "source": [
        "<a href=\"https://colab.research.google.com/github/NathDumit/NathDumit/blob/main/Status_voto.ipynb\" target=\"_parent\"><img src=\"https://colab.research.google.com/assets/colab-badge.svg\" alt=\"Open In Colab\"/></a>"
      ]
    },
    {
      "cell_type": "markdown",
      "source": [
        "**Crie um script que retorne o status para voto. Se entre 16 e 17 anos e acima de 70, opcional. Se Entre 18 e 69 anos, obrigatório.**\n",
        "\n"
      ],
      "metadata": {
        "id": "Zne9lsmnPUTD"
      }
    },
    {
      "cell_type": "code",
      "execution_count": 1,
      "metadata": {
        "colab": {
          "base_uri": "https://localhost:8080/"
        },
        "id": "2YzAe7RyPRUq",
        "outputId": "444637b4-5f08-4da8-b0dc-517602e103ed"
      },
      "outputs": [
        {
          "output_type": "stream",
          "name": "stdout",
          "text": [
            "Digite sua idade: 65\n",
            "Voto obrigatório\n"
          ]
        }
      ],
      "source": [
        "idade = int(input(\"Digite sua idade: \"))\n",
        "\n",
        "if 16 <= idade <= 17 or idade > 69:\n",
        "    print(\"Voto opcional\")\n",
        "elif 18 <= idade <= 69:\n",
        "    print(\"Voto obrigatório\")\n",
        "else:\n",
        "    print(\"Não está apto a votar\")"
      ]
    }
  ]
}