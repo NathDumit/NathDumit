{
  "cells": [
    {
      "cell_type": "markdown",
      "metadata": {
        "id": "view-in-github",
        "colab_type": "text"
      },
      "source": [
        "<a href=\"https://colab.research.google.com/github/NathDumit/NathDumit/blob/main/codprimo.ipynb\" target=\"_parent\"><img src=\"https://colab.research.google.com/assets/colab-badge.svg\" alt=\"Open In Colab\"/></a>"
      ]
    },
    {
      "cell_type": "markdown",
      "source": [
        "**Crie um script para verificar se o número é primo**:\n",
        "\n"
      ],
      "metadata": {
        "id": "ZDn9gck_K8bz"
      },
      "id": "ZDn9gck_K8bz"
    },
    {
      "cell_type": "code",
      "execution_count": null,
      "id": "3bc369df",
      "metadata": {
        "id": "3bc369df"
      },
      "outputs": [],
      "source": [
        "numero = int(input(\"Digite um número: \"))\n",
        "\n",
        "primo = True\n",
        "\n",
        "if numero <= 1:\n",
        "    primo = False\n",
        "else:\n",
        "    for i in range(2, numero):\n",
        "        if numero % i == 0:\n",
        "            primo = False\n",
        "            break\n",
        "\n",
        "if primo:\n",
        "    print(f\"{numero} é um número primo.\")\n",
        "else:\n",
        "    print(f\"{numero} não é um número primo.\")"
      ]
    },
    {
      "cell_type": "code",
      "execution_count": null,
      "id": "5d20d4f3",
      "metadata": {
        "id": "5d20d4f3"
      },
      "outputs": [],
      "source": []
    }
  ],
  "metadata": {
    "kernelspec": {
      "display_name": "Python 3 (ipykernel)",
      "language": "python",
      "name": "python3"
    },
    "language_info": {
      "codemirror_mode": {
        "name": "ipython",
        "version": 3
      },
      "file_extension": ".py",
      "mimetype": "text/x-python",
      "name": "python",
      "nbconvert_exporter": "python",
      "pygments_lexer": "ipython3",
      "version": "3.10.8"
    },
    "colab": {
      "provenance": [],
      "include_colab_link": true
    }
  },
  "nbformat": 4,
  "nbformat_minor": 5
}